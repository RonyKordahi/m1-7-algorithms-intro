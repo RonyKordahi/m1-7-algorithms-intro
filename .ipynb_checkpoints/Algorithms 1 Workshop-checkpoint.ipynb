{
 "cells": [
  {
   "cell_type": "markdown",
   "metadata": {
    "colab_type": "text",
    "id": "c8zuAcfM5lDz"
   },
   "source": [
    "# 1. Big-O Theory exercises\n",
    "\n",
    "1. What is the big-O of the following algorithm? Assume `A` is an array of numbers\n",
    "\n",
    "```python\n",
    "def number_in_array(A, num):\n",
    "  for i in range(len(A)):\n",
    "    if A[i] == num:\n",
    "      return True\n",
    "  return False\n",
    "```\n",
    "\n",
    "2. What is the big-O of the following algorithm? Assume `A` and `B` are arrays of numbers of the **same length n**\n",
    "\n",
    "```python\n",
    "def number_in_two_arrays(A, B, num):\n",
    "  arr_len = len(A)\n",
    "  for i in range(arr_len):\n",
    "    if A[i] == num:\n",
    "      return True\n",
    "  for i in range(arr_len):\n",
    "    if B[i] == num:\n",
    "      return True\n",
    "  return False\n",
    "```\n",
    "\n",
    "3. What would be the big-O above if `A` was length `n` and `B` was length `m`?\n",
    "\n",
    "4. What is the big-O of the following algorithm? Assume `A` and `B` are arrays of numbers of the **same length n**\n",
    "\n",
    "```python\n",
    "def number_in_two_arrays(A, B, num):\n",
    "  arr_len = len(A)\n",
    "  for i in range(arr_len):\n",
    "    for j in range(arr_len):\n",
    "    if A[i] == B[j]:\n",
    "      return True\n",
    "  return False\n",
    "```"
   ]
  },
  {
   "cell_type": "code",
   "execution_count": null,
   "metadata": {},
   "outputs": [],
   "source": [
    "# Question 1:\n",
    "O(n)\n",
    "\n",
    "# Question 2:\n",
    "O(2n)\n",
    "\n",
    "#Question 3:\n",
    "O(n + m)\n",
    "\n",
    "#Question 4:\n",
    "O(n**2)"
   ]
  },
  {
   "cell_type": "markdown",
   "metadata": {
    "colab_type": "text",
    "id": "4lz1Ha-E_CQ1"
   },
   "source": [
    "# Reverse Sort\n",
    "\n",
    "Rewrite `selection_sort` so that it sorts in **reverse order** instead (biggest element first, smallest last)"
   ]
  },
  {
   "cell_type": "code",
   "execution_count": 3,
   "metadata": {},
   "outputs": [
    {
     "data": {
      "text/plain": [
       "[777, 111, 66.6, 44.4, 22, 5, 4, 3]"
      ]
     },
     "execution_count": 3,
     "metadata": {},
     "output_type": "execute_result"
    }
   ],
   "source": [
    "def selection_sort(arr):\n",
    "    \n",
    "    for j in range(len(arr)):\n",
    "        for i in range(len(arr)):\n",
    "\n",
    "            if i != (len(arr) - 1):\n",
    "                a = arr[i]\n",
    "                b = arr[i + 1]\n",
    "\n",
    "                if b > a:\n",
    "                    arr[i] = b\n",
    "                    arr[i + 1] = a\n",
    "                    \n",
    "    return arr\n",
    "        \n",
    "arr = [111,4,3,22,5,44.4,66.6,777]\n",
    "selection_sort(arr)"
   ]
  },
  {
   "cell_type": "markdown",
   "metadata": {
    "colab": {},
    "colab_type": "code",
    "id": "kLzOQr8tAAIG"
   },
   "source": [
    "# Two sum (Brute Force)\n",
    "\n",
    "Two sum. Given an array and a number N, return True if there are numbers A, B in the array such that A + B = N. Otherwise, return False.\n",
    "\n",
    "```\n",
    "two_sum([1, 2, 3, 4], 5) ⇒ True\n",
    "two_sum([3, 4, 6], 6) ⇒ False\n",
    "```\n",
    "\n",
    "Write a brute force $O(n^2)$ algorithm"
   ]
  },
  {
   "cell_type": "code",
   "execution_count": 10,
   "metadata": {},
   "outputs": [
    {
     "name": "stdout",
     "output_type": "stream",
     "text": [
      "True\n",
      "False\n"
     ]
    }
   ],
   "source": [
    "def two_sum(arr, num):\n",
    "    \n",
    "    for i in range(len(arr)):\n",
    "        \n",
    "        for j in range(len(arr)):\n",
    "            if j == 0:\n",
    "                j = 1\n",
    "                \n",
    "            if arr[i] + arr[j] == num:\n",
    "                return True\n",
    "            \n",
    "    return False\n",
    "\n",
    "print(two_sum([1, 2, 3, 4], 5))\n",
    "print(two_sum([3, 4, 6], 6))"
   ]
  },
  {
   "cell_type": "markdown",
   "metadata": {},
   "source": [
    "# Two Sum (Fast Version)\n",
    "\n",
    "Write a linear time version $O(N)$ for the two sum problem"
   ]
  },
  {
   "cell_type": "code",
   "execution_count": 11,
   "metadata": {},
   "outputs": [
    {
     "name": "stdout",
     "output_type": "stream",
     "text": [
      "True\n",
      "False\n"
     ]
    }
   ],
   "source": [
    "def fast_two_sum(arr, num):\n",
    "    \n",
    "    for i in range(len(arr)):\n",
    "        \n",
    "        if i != (len(arr) - 1):\n",
    "            \n",
    "            if arr[i] + arr[i + 1] == num:\n",
    "                return True\n",
    "    return False\n",
    "\n",
    "print(two_sum([1, 2, 3, 4], 5))\n",
    "print(two_sum([3, 4, 6], 6))"
   ]
  },
  {
   "cell_type": "markdown",
   "metadata": {},
   "source": [
    "# Two Sum (itertools version)\n",
    "\n",
    "Use `itertools.combinations` to write a $O(N)$ algorithm for two sum"
   ]
  },
  {
   "cell_type": "code",
   "execution_count": 27,
   "metadata": {},
   "outputs": [
    {
     "data": {
      "text/plain": [
       "[(1, 2), (1, 3), (1, 4), (2, 3), (2, 4), (3, 4)]"
      ]
     },
     "execution_count": 27,
     "metadata": {},
     "output_type": "execute_result"
    }
   ],
   "source": [
    "# tada?\n",
    "\n",
    "import itertools\n",
    "\n",
    "arr = [1, 2, 3, 4]\n",
    "l = len(arr)\n",
    "\n",
    "list(itertools.combinations(arr, 2))"
   ]
  },
  {
   "cell_type": "markdown",
   "metadata": {},
   "source": [
    "# Linked Lists\n",
    "\n",
    "Unlike a regular array, a [Linked List](https://en.wikipedia.org/wiki/Linked_list) is a container where inserting a new element somewhere in the middle is $O(1)$. \n",
    "\n",
    "For a regular array inserting an element in the middle is $O(N)$, because we need to \"shift back\" all the elements after it. In practice, we might also have to allocate new memory to fit in the element.\n",
    "\n",
    "A linked list is a series of elements, `Node(value, next)` which work as follows:\n",
    "\n",
    "- The `value` field is the element value -- python object at that place in the list (like elements in a python `list`)\n",
    "\n",
    "- The `next` field points to the next element in the linked list. In python holding a reference to the element does this (the same way a python list holds references to objects)\n",
    "\n",
    "### Exercise\n",
    "\n",
    "Implement the `Node` Class as described above then initialize a list with 5 elements `(3 -> 'cat' -> 'dog' -> 55 -> 56)`"
   ]
  },
  {
   "cell_type": "code",
   "execution_count": 104,
   "metadata": {},
   "outputs": [
    {
     "name": "stdout",
     "output_type": "stream",
     "text": [
      "3 --> cat --> dog --> 55 --> 56 --> "
     ]
    }
   ],
   "source": [
    "# Help received from Jasleen, code found https://www.tutorialspoint.com/python_data_structure/python_linked_lists.htm\n",
    "\n",
    "class Node():\n",
    "    \n",
    "    def __init__(self, data):\n",
    "        self.data = data\n",
    "        self.next = None\n",
    "        \n",
    "class LinkedList():\n",
    "    \n",
    "    def __init__(self):\n",
    "        self.head = None\n",
    "        \n",
    "    def printlist(self):\n",
    "        to_print = self.head\n",
    "        \n",
    "        while to_print != None:\n",
    "            print(f\"{to_print.data} -->\", end =\" \")\n",
    "            to_print = to_print.next\n",
    "    \n",
    "n5 = Node(56)\n",
    "\n",
    "n4 = Node(55)\n",
    "n4.next = n5\n",
    "\n",
    "n3 = Node(\"dog\")\n",
    "n3.next = n4\n",
    "\n",
    "n2 = Node(\"cat\")\n",
    "n2.next = n3\n",
    "\n",
    "l = LinkedList()\n",
    "l.head = Node(3)\n",
    "l.head.next = n2\n",
    "\n",
    "l.printlist()\n"
   ]
  },
  {
   "cell_type": "markdown",
   "metadata": {},
   "source": [
    "# Reversing a linked list\n",
    "\n",
    "Write a $O(N)$ function `reverse_ll` that reverses all the pointers in a linked list:\n",
    "\n",
    "```\n",
    "(a -> b -> c) ⇒ (c -> b -> a)\n",
    "```\n",
    "\n",
    "Note: You don't have to reverse their order in the python tuple/list if that's where you're holding them. Just reverse their `Node` pointers to each other"
   ]
  },
  {
   "cell_type": "code",
   "execution_count": 105,
   "metadata": {},
   "outputs": [
    {
     "name": "stdout",
     "output_type": "stream",
     "text": [
      "c --> b --> a --> "
     ]
    }
   ],
   "source": [
    "na = Node(\"a\")\n",
    "nb = Node(\"b\")\n",
    "nc = Node(\"c\")\n",
    "\n",
    "na.next = nb\n",
    "nb.next = nc\n",
    "\n",
    "def reverse_ll(n1, n2, n3):\n",
    "    temp = n1.next\n",
    "    n1.next = n3.next\n",
    "    n3.next = temp\n",
    "    n2.next = n1\n",
    "    \n",
    "        \n",
    "reverse_ll(na, nb, nc)\n",
    "l2 = LinkedList()\n",
    "l2.head = nc\n",
    "l2.printlist()"
   ]
  }
 ],
 "metadata": {
  "colab": {
   "authorship_tag": "ABX9TyOATH9BoLFARMvG0o+Vj9NT",
   "collapsed_sections": [],
   "name": "Algorithms 1 Workshop.ipynb",
   "provenance": []
  },
  "kernelspec": {
   "display_name": "Python 3",
   "language": "python",
   "name": "python3"
  },
  "language_info": {
   "codemirror_mode": {
    "name": "ipython",
    "version": 3
   },
   "file_extension": ".py",
   "mimetype": "text/x-python",
   "name": "python",
   "nbconvert_exporter": "python",
   "pygments_lexer": "ipython3",
   "version": "3.7.6"
  }
 },
 "nbformat": 4,
 "nbformat_minor": 1
}
